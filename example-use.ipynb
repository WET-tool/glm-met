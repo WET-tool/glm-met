{
 "cells": [
  {
   "attachments": {},
   "cell_type": "markdown",
   "metadata": {},
   "source": [
    "# glm-met\n",
    "\n",
    "Example use of the glm-met Python package to download meteorological data and format it for use with the General Lake Model (GLM)."
   ]
  },
  {
   "cell_type": "code",
   "execution_count": null,
   "metadata": {},
   "outputs": [],
   "source": [
    "# install glm-met - comment if this step is not required\n",
    "# !pip install glm-met\n",
    "!pip install glm-met"
   ]
  },
  {
   "attachments": {},
   "cell_type": "markdown",
   "metadata": {},
   "source": [
    "## Historical data"
   ]
  },
  {
   "cell_type": "markdown",
   "metadata": {},
   "source": [
    "Here, we'll be working with the NASA POWER API which lets you download hourly solar and meteorological data.\n",
    "\n",
    "First, we need to create a `glm_met.nasa_power.nasa_power.Power` object, which stores API query attributes and has methods for downloading and processing the data."
   ]
  },
  {
   "cell_type": "code",
   "execution_count": 2,
   "metadata": {},
   "outputs": [],
   "source": [
    "import pprint\n",
    "import pandas as pd\n",
    "import os\n",
    "import glm_met.nasa_power.nasa_power as nasa_power\n",
    "\n",
    "# initialise a Power object\n",
    "# the object attributes are set to:\n",
    "# - query the NASA POWER API \n",
    "# - query for hourly met data from 2020 to 2022\n",
    "# - query a location in Western Australia\n",
    "\n",
    "power = nasa_power.Power(\n",
    "    location=(116.6, -32.17), \n",
    "    date_range=(\"20200101\", \"20221231\"), \n",
    "    met_data=None,\n",
    "    glm_met_data=None,\n",
    "    parameters=None,\n",
    ")"
   ]
  },
  {
   "attachments": {},
   "cell_type": "markdown",
   "metadata": {},
   "source": [
    "Once we have created the `Power` object, `power`, we can call its `get_variables()` method to make a request to the NASA POWER API and download the data. The downloaded data will be stored in `powers`'s `met_data` attribute. The `met_data` attribute's type is of `MetData` which has two attributes. `power.met_data.metadata` is a dict of metadata about the request to the NASA POWER API and `power.met_data.data` is a DataFrame object of meteorological data."
   ]
  },
  {
   "cell_type": "code",
   "execution_count": 3,
   "metadata": {},
   "outputs": [],
   "source": [
    "power.get_variables(request_settings=None)"
   ]
  },
  {
   "cell_type": "code",
   "execution_count": null,
   "metadata": {},
   "outputs": [],
   "source": [
    "# view the metadata\n",
    "pprint.pprint(power.met_data.metadata)"
   ]
  },
  {
   "cell_type": "code",
   "execution_count": null,
   "metadata": {},
   "outputs": [],
   "source": [
    "# view the data\n",
    "power.met_data.data.head()"
   ]
  },
  {
   "attachments": {},
   "cell_type": "markdown",
   "metadata": {},
   "source": [
    "The GLM model requires meteorological data with a specific format and units. If the required meteorological variables to run GLM have been requested from NASA POWER, `power`'s `convert_to_glm()` method can be used reformat the data. The GLM formatted data is a DataFrame that is stored in `power`'s `glm_met_data` attribute."
   ]
  },
  {
   "cell_type": "code",
   "execution_count": null,
   "metadata": {},
   "outputs": [],
   "source": [
    "# convert data to GLM format\n",
    "power.convert_to_glm()\n",
    "\n",
    "# visualise GLM formatted data\n",
    "power.glm_met_data.head()"
   ]
  },
  {
   "attachments": {},
   "cell_type": "markdown",
   "metadata": {},
   "source": [
    "Finally, we can save the GLM formatted meteorological data to a csv file for use with the GLM model."
   ]
  },
  {
   "cell_type": "code",
   "execution_count": null,
   "metadata": {},
   "outputs": [],
   "source": [
    "power.write_glm_met(path=os.getcwd(), zip_f=False, fname=\"met.csv\")\n",
    "\n",
    "if \"met.csv\" in os.listdir(os.getcwd()):\n",
    "    print(\"met.csv downloaded OK\")"
   ]
  }
 ],
 "metadata": {
  "kernelspec": {
   "display_name": "Python 3",
   "language": "python",
   "name": "python3"
  },
  "language_info": {
   "codemirror_mode": {
    "name": "ipython",
    "version": 3
   },
   "file_extension": ".py",
   "mimetype": "text/x-python",
   "name": "python",
   "nbconvert_exporter": "python",
   "pygments_lexer": "ipython3",
   "version": "3.11.4"
  },
  "orig_nbformat": 4
 },
 "nbformat": 4,
 "nbformat_minor": 2
}
