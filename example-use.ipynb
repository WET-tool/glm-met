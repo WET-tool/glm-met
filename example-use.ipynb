{
 "cells": [
  {
   "attachments": {},
   "cell_type": "markdown",
   "metadata": {},
   "source": [
    "# glm-met\n",
    "\n",
    "Example use of the glm-met Python package to download meteorological data and format it for use with the General Lake Model (GLM)."
   ]
  },
  {
   "cell_type": "code",
   "execution_count": null,
   "metadata": {},
   "outputs": [],
   "source": [
    "# install glm-met - comment if this step is not required\n",
    "!pip install glm-met"
   ]
  },
  {
   "cell_type": "markdown",
   "metadata": {},
   "source": [
    "Here, we'll be working with the open-meteo Historical API which lets you download historical meteorological data based on the ERA-Land reanalysis product.\n",
    "\n",
    "First, we need to create a `glm_met.openmeteo.historical.Historical` object, which stores API query attributes and has methods for downloading and processing the data."
   ]
  },
  {
   "cell_type": "code",
   "execution_count": 3,
   "metadata": {},
   "outputs": [],
   "source": [
    "import pprint\n",
    "import pandas as pd\n",
    "import os\n",
    "import glm_met.openmeteo.historical as historical\n",
    "\n",
    "variables = [\n",
    "    \"temperature_2m\",\n",
    "    \"relativehumidity_2m\",\n",
    "    \"precipitation\",\n",
    "    \"cloudcover\",\n",
    "    \"et0_fao_evapotranspiration\",\n",
    "    \"windspeed_10m\",\n",
    "    \"winddirection_10m\",\n",
    "    \"windgusts_10m\",\n",
    "    \"shortwave_radiation\",\n",
    "    \"direct_normal_irradiance\"\n",
    "]\n",
    "\n",
    "tmp_historical = historical.Historical(\n",
    "        location=(116.69115540712589, -34.22581232495377),\n",
    "        date_range=(\"2020-01-01\", \"2020-01-31\"),\n",
    "        variables=variables,\n",
    "        met_data=None,\n",
    "        glm_met_data=None,\n",
    "        timezone=\"Australia/Sydney\",\n",
    "        hourly=True\n",
    "    )"
   ]
  },
  {
   "attachments": {},
   "cell_type": "markdown",
   "metadata": {},
   "source": [
    "Once we have created the `Historical` object, `tmp_historical`, we can call its `get_variables()` method to make a request to the open-meteo Historical API and download the data. The downloaded data will be stored in `tmp_historical`'s `met_data` attribute. The `met_data` attribute's type is of `MetData` which has two attributes. `tmp_historical.met_data.metadata` is a dict of metadata about the request to the open-meteo Historical API and `tmp_historical.met_data.data` is a DataFrame object of meteorological data."
   ]
  },
  {
   "cell_type": "code",
   "execution_count": 4,
   "metadata": {},
   "outputs": [],
   "source": [
    "tmp_historical.get_variables(request_settings=None)"
   ]
  },
  {
   "cell_type": "code",
   "execution_count": 5,
   "metadata": {},
   "outputs": [
    {
     "name": "stdout",
     "output_type": "stream",
     "text": [
      "{'elevation': 208.0,\n",
      " 'generationtime_ms': 1.5289783477783203,\n",
      " 'hourly_units': {'cloudcover': '%',\n",
      "                  'direct_normal_irradiance': 'W/m²',\n",
      "                  'et0_fao_evapotranspiration': 'mm',\n",
      "                  'precipitation': 'mm',\n",
      "                  'relativehumidity_2m': '%',\n",
      "                  'shortwave_radiation': 'W/m²',\n",
      "                  'temperature_2m': '°C',\n",
      "                  'time': 'iso8601',\n",
      "                  'winddirection_10m': '°',\n",
      "                  'windgusts_10m': 'm/s',\n",
      "                  'windspeed_10m': 'm/s'},\n",
      " 'latitude': -34.2,\n",
      " 'longitude': 116.70001,\n",
      " 'timezone': 'Australia/Sydney',\n",
      " 'timezone_abbreviation': 'AEST',\n",
      " 'utc_offset_seconds': 36000}\n"
     ]
    }
   ],
   "source": [
    "# view the metadata\n",
    "pprint.pprint(tmp_historical.met_data.metadata)"
   ]
  },
  {
   "cell_type": "code",
   "execution_count": 6,
   "metadata": {},
   "outputs": [
    {
     "data": {
      "text/html": [
       "<div>\n",
       "<style scoped>\n",
       "    .dataframe tbody tr th:only-of-type {\n",
       "        vertical-align: middle;\n",
       "    }\n",
       "\n",
       "    .dataframe tbody tr th {\n",
       "        vertical-align: top;\n",
       "    }\n",
       "\n",
       "    .dataframe thead th {\n",
       "        text-align: right;\n",
       "    }\n",
       "</style>\n",
       "<table border=\"1\" class=\"dataframe\">\n",
       "  <thead>\n",
       "    <tr style=\"text-align: right;\">\n",
       "      <th></th>\n",
       "      <th>time</th>\n",
       "      <th>temperature_2m</th>\n",
       "      <th>relativehumidity_2m</th>\n",
       "      <th>precipitation</th>\n",
       "      <th>cloudcover</th>\n",
       "      <th>et0_fao_evapotranspiration</th>\n",
       "      <th>windspeed_10m</th>\n",
       "      <th>winddirection_10m</th>\n",
       "      <th>windgusts_10m</th>\n",
       "      <th>shortwave_radiation</th>\n",
       "      <th>direct_normal_irradiance</th>\n",
       "    </tr>\n",
       "  </thead>\n",
       "  <tbody>\n",
       "    <tr>\n",
       "      <th>0</th>\n",
       "      <td>2020-01-01T00:00</td>\n",
       "      <td>17.1</td>\n",
       "      <td>69</td>\n",
       "      <td>0.0</td>\n",
       "      <td>27</td>\n",
       "      <td>0.03</td>\n",
       "      <td>2.86</td>\n",
       "      <td>205</td>\n",
       "      <td>6.2</td>\n",
       "      <td>0.0</td>\n",
       "      <td>0.0</td>\n",
       "    </tr>\n",
       "    <tr>\n",
       "      <th>1</th>\n",
       "      <td>2020-01-01T01:00</td>\n",
       "      <td>16.2</td>\n",
       "      <td>75</td>\n",
       "      <td>0.0</td>\n",
       "      <td>22</td>\n",
       "      <td>0.01</td>\n",
       "      <td>1.94</td>\n",
       "      <td>192</td>\n",
       "      <td>5.3</td>\n",
       "      <td>0.0</td>\n",
       "      <td>0.0</td>\n",
       "    </tr>\n",
       "    <tr>\n",
       "      <th>2</th>\n",
       "      <td>2020-01-01T02:00</td>\n",
       "      <td>15.4</td>\n",
       "      <td>80</td>\n",
       "      <td>0.0</td>\n",
       "      <td>5</td>\n",
       "      <td>0.00</td>\n",
       "      <td>1.33</td>\n",
       "      <td>167</td>\n",
       "      <td>3.7</td>\n",
       "      <td>0.0</td>\n",
       "      <td>0.0</td>\n",
       "    </tr>\n",
       "    <tr>\n",
       "      <th>3</th>\n",
       "      <td>2020-01-01T03:00</td>\n",
       "      <td>14.6</td>\n",
       "      <td>85</td>\n",
       "      <td>0.0</td>\n",
       "      <td>0</td>\n",
       "      <td>0.00</td>\n",
       "      <td>1.30</td>\n",
       "      <td>113</td>\n",
       "      <td>2.6</td>\n",
       "      <td>0.0</td>\n",
       "      <td>0.0</td>\n",
       "    </tr>\n",
       "    <tr>\n",
       "      <th>4</th>\n",
       "      <td>2020-01-01T04:00</td>\n",
       "      <td>14.1</td>\n",
       "      <td>88</td>\n",
       "      <td>0.0</td>\n",
       "      <td>0</td>\n",
       "      <td>0.00</td>\n",
       "      <td>1.08</td>\n",
       "      <td>112</td>\n",
       "      <td>2.0</td>\n",
       "      <td>0.0</td>\n",
       "      <td>0.0</td>\n",
       "    </tr>\n",
       "  </tbody>\n",
       "</table>\n",
       "</div>"
      ],
      "text/plain": [
       "               time  ...  direct_normal_irradiance\n",
       "0  2020-01-01T00:00  ...                       0.0\n",
       "1  2020-01-01T01:00  ...                       0.0\n",
       "2  2020-01-01T02:00  ...                       0.0\n",
       "3  2020-01-01T03:00  ...                       0.0\n",
       "4  2020-01-01T04:00  ...                       0.0\n",
       "\n",
       "[5 rows x 11 columns]"
      ]
     },
     "execution_count": 6,
     "metadata": {},
     "output_type": "execute_result"
    }
   ],
   "source": [
    "# view the data\n",
    "tmp_historical.met_data.data.head()"
   ]
  },
  {
   "attachments": {},
   "cell_type": "markdown",
   "metadata": {},
   "source": [
    "The GLM model requires meteorological data with a specific format and units. If the required meteorological variables to run GLM have been requested from open-meteo, `tmp_historical`'s `convert_to_glm()` method can be used reformat the data. The GLM formatted data is a DataFrame that is stored in `tmp_historical`'s `glm_met_data` attribute."
   ]
  },
  {
   "cell_type": "code",
   "execution_count": 7,
   "metadata": {},
   "outputs": [
    {
     "data": {
      "text/html": [
       "<div>\n",
       "<style scoped>\n",
       "    .dataframe tbody tr th:only-of-type {\n",
       "        vertical-align: middle;\n",
       "    }\n",
       "\n",
       "    .dataframe tbody tr th {\n",
       "        vertical-align: top;\n",
       "    }\n",
       "\n",
       "    .dataframe thead th {\n",
       "        text-align: right;\n",
       "    }\n",
       "</style>\n",
       "<table border=\"1\" class=\"dataframe\">\n",
       "  <thead>\n",
       "    <tr style=\"text-align: right;\">\n",
       "      <th></th>\n",
       "      <th>time</th>\n",
       "      <th>ShortWave</th>\n",
       "      <th>Cloud</th>\n",
       "      <th>AirTemp</th>\n",
       "      <th>RelHum</th>\n",
       "      <th>WindSpeed</th>\n",
       "      <th>Rain</th>\n",
       "    </tr>\n",
       "  </thead>\n",
       "  <tbody>\n",
       "    <tr>\n",
       "      <th>0</th>\n",
       "      <td>2020-01-01 00:00</td>\n",
       "      <td>0.0</td>\n",
       "      <td>0.27</td>\n",
       "      <td>17.1</td>\n",
       "      <td>69</td>\n",
       "      <td>2.86</td>\n",
       "      <td>0.0</td>\n",
       "    </tr>\n",
       "    <tr>\n",
       "      <th>1</th>\n",
       "      <td>2020-01-01 01:00</td>\n",
       "      <td>0.0</td>\n",
       "      <td>0.22</td>\n",
       "      <td>16.2</td>\n",
       "      <td>75</td>\n",
       "      <td>1.94</td>\n",
       "      <td>0.0</td>\n",
       "    </tr>\n",
       "    <tr>\n",
       "      <th>2</th>\n",
       "      <td>2020-01-01 02:00</td>\n",
       "      <td>0.0</td>\n",
       "      <td>0.05</td>\n",
       "      <td>15.4</td>\n",
       "      <td>80</td>\n",
       "      <td>1.33</td>\n",
       "      <td>0.0</td>\n",
       "    </tr>\n",
       "    <tr>\n",
       "      <th>3</th>\n",
       "      <td>2020-01-01 03:00</td>\n",
       "      <td>0.0</td>\n",
       "      <td>0.00</td>\n",
       "      <td>14.6</td>\n",
       "      <td>85</td>\n",
       "      <td>1.30</td>\n",
       "      <td>0.0</td>\n",
       "    </tr>\n",
       "    <tr>\n",
       "      <th>4</th>\n",
       "      <td>2020-01-01 04:00</td>\n",
       "      <td>0.0</td>\n",
       "      <td>0.00</td>\n",
       "      <td>14.1</td>\n",
       "      <td>88</td>\n",
       "      <td>1.08</td>\n",
       "      <td>0.0</td>\n",
       "    </tr>\n",
       "  </tbody>\n",
       "</table>\n",
       "</div>"
      ],
      "text/plain": [
       "               time  ShortWave  Cloud  AirTemp  RelHum  WindSpeed  Rain\n",
       "0  2020-01-01 00:00        0.0   0.27     17.1      69       2.86   0.0\n",
       "1  2020-01-01 01:00        0.0   0.22     16.2      75       1.94   0.0\n",
       "2  2020-01-01 02:00        0.0   0.05     15.4      80       1.33   0.0\n",
       "3  2020-01-01 03:00        0.0   0.00     14.6      85       1.30   0.0\n",
       "4  2020-01-01 04:00        0.0   0.00     14.1      88       1.08   0.0"
      ]
     },
     "execution_count": 7,
     "metadata": {},
     "output_type": "execute_result"
    }
   ],
   "source": [
    "# convert data to GLM format\n",
    "tmp_historical.convert_to_glm()\n",
    "\n",
    "# visualise GLM formatted data\n",
    "tmp_historical.glm_met_data.head()"
   ]
  },
  {
   "attachments": {},
   "cell_type": "markdown",
   "metadata": {},
   "source": [
    "Finally, we can save the GLM formatted meteorological data to a csv file for use with the GLM model."
   ]
  },
  {
   "cell_type": "code",
   "execution_count": 8,
   "metadata": {},
   "outputs": [
    {
     "name": "stdout",
     "output_type": "stream",
     "text": [
      "met.csv downloaded OK\n"
     ]
    }
   ],
   "source": [
    "tmp_historical.write_glm_met(path=os.getcwd(), zip_f=False, fname=\"met.csv\")\n",
    "\n",
    "if \"met.csv\" in os.listdir(os.getcwd()):\n",
    "    print(\"met.csv downloaded OK\")"
   ]
  }
 ],
 "metadata": {
  "kernelspec": {
   "display_name": "Python 3",
   "language": "python",
   "name": "python3"
  },
  "language_info": {
   "codemirror_mode": {
    "name": "ipython",
    "version": 3
   },
   "file_extension": ".py",
   "mimetype": "text/x-python",
   "name": "python",
   "nbconvert_exporter": "python",
   "pygments_lexer": "ipython3",
   "version": "3.11.4"
  },
  "orig_nbformat": 4
 },
 "nbformat": 4,
 "nbformat_minor": 2
}
